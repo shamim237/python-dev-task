{
  "nbformat": 4,
  "nbformat_minor": 0,
  "metadata": {
    "colab": {
      "provenance": [],
      "authorship_tag": "ABX9TyN/37dVRFT0kjCLwGbpgCOn",
      "include_colab_link": true
    },
    "kernelspec": {
      "name": "python3",
      "display_name": "Python 3"
    },
    "language_info": {
      "name": "python"
    },
    "accelerator": "GPU",
    "gpuClass": "standard"
  },
  "cells": [
    {
      "cell_type": "markdown",
      "metadata": {
        "id": "view-in-github",
        "colab_type": "text"
      },
      "source": [
        "<a href=\"https://colab.research.google.com/github/shamim237/python-dev-task/blob/sub-main/Python_Dev_Task.ipynb\" target=\"_parent\"><img src=\"https://colab.research.google.com/assets/colab-badge.svg\" alt=\"Open In Colab\"/></a>"
      ]
    },
    {
      "cell_type": "markdown",
      "source": [
        "**Install required libraries**"
      ],
      "metadata": {
        "id": "cHYEWP3vJr-p"
      }
    },
    {
      "cell_type": "code",
      "source": [
        "!pip install transformers\n",
        "!pip install sentencepiece"
      ],
      "metadata": {
        "id": "1qKIOy1NlG4Y"
      },
      "execution_count": null,
      "outputs": []
    },
    {
      "cell_type": "markdown",
      "source": [
        "**Import required libraries**"
      ],
      "metadata": {
        "id": "5U08Mm1JJ92V"
      }
    },
    {
      "cell_type": "code",
      "source": [
        "import re\n",
        "import torch\n",
        "import requests\n",
        "from bs4 import BeautifulSoup\n",
        "from transformers import AutoTokenizer, AutoModelForSeq2SeqLM\n",
        "from transformers import PegasusForConditionalGeneration, AutoTokenizer"
      ],
      "metadata": {
        "id": "cZyfBBEcNb-z"
      },
      "execution_count": null,
      "outputs": []
    },
    {
      "cell_type": "markdown",
      "source": [
        "**scrape data from the Amazon webpage using scrapperAPI and BeautifulSoup**"
      ],
      "metadata": {
        "id": "IA0JeK_pKDs2"
      }
    },
    {
      "cell_type": "code",
      "source": [
        "url = \"https://www.amazon.com/dp/B09B9TB61G?th=1\"\n",
        "params = {\n",
        "    \"api_key\": \"3c259788e88e8921b5dab304e9913bd3\",\n",
        "    \"url\": url\n",
        "}\n",
        "response = requests.get(\"http://api.scraperapi.com\", params=params)\n",
        "\n",
        "soup = BeautifulSoup(response.content, 'html.parser')\n",
        "product_description = soup.find('div', attrs={'id': 'aplus'})"
      ],
      "metadata": {
        "id": "U5RFLJA6_S0J"
      },
      "execution_count": null,
      "outputs": []
    },
    {
      "cell_type": "code",
      "source": [
        "filt = []\n",
        "global prod_description\n",
        "print('\\033[92mRAW DATA\\033[0m')\n",
        "print('='*200)\n",
        "for i in product_description.find_all(\"p\"):\n",
        "  sen = i.text.strip()\n",
        "  print(sen)\n",
        "  filt.append(sen)\n",
        "prod_description = list(filter(None, filt))\n",
        "prod_description = [sentence.strip() for sentence in prod_description]"
      ],
      "metadata": {
        "colab": {
          "base_uri": "https://localhost:8080/"
        },
        "id": "EblFGAtFJWNK",
        "outputId": "934db5be-ea04-4ee8-d7c6-7bc63255a9ee"
      },
      "execution_count": null,
      "outputs": [
        {
          "output_type": "stream",
          "name": "stdout",
          "text": [
            "\u001b[92mRAW DATA\u001b[0m\n",
            "========================================================================================================================================================================================================\n",
            "EIGIIS military smart watch has a 10 military grade certifications and can be used under the harsh environmental conditions, such as 70 ℃ heat resistance, -40 ℃ cold resistance; 120 hours resistance to humidity, 96 hours resistance to salt spray.\n",
            "EIGIIS military smart watch has a variety of exercise modes, including running, walking, cycling, skipping, basketball, football, badminton, etc. It can perform real-time heart rate monitoring and accurately record all-day activities, such as pedometer, distance, calories burned, heart rate and active time through intelligent exercise algorithms.\n",
            "After connecting to Bluetooth, you can make calls on your EIGIIS smart watch K22, and you can view various notifications such as SMS and SNS (Facebook, WhatsApp, Instagram, Wechat and Twitter ) through your smart watch without turning on your phone.\n",
            "\n",
            "\n",
            "\n",
            "You can make calls and answer the calls directly by your watch. Besides, it can also supports call rejection and synchronize your recent calls.\n",
            "Using message and call notification, you will never miss any important calls and messages at all!\n",
            "You can even use it to play music outside. Anytime, anywhere  brings you a convenient life.\n",
            "\n",
            "\n",
            "\n",
            "Sleep monitoring records how many times you wake up/light sleep/deep sleep/REM sleep.\n",
            "Always caring about your physical health, you can measure your blood pressure and heart rate anytime and anywhere. And all measured data can be sync on the mobile phone. You can get a better understanding of your health by analyze the corresponding data.\n",
            "You can check the weather all over the country, providing you more convenience in your daily life.\n",
            "EIGIIS military smart watch has 100+ dails for you to choose in \"Da Fit\" APP. You can switch the UI arbitrarily by long pressing the watch dial. Let you have a different experience.\n"
          ]
        }
      ]
    },
    {
      "cell_type": "markdown",
      "source": [
        "**Paraphrasing model from HuggingFace🤗**"
      ],
      "metadata": {
        "id": "WLuHW_G3MFQr"
      }
    },
    {
      "cell_type": "code",
      "source": [
        "def paraphrase_model(model_name):\n",
        "    model = AutoModelForSeq2SeqLM.from_pretrained(model_name)\n",
        "    return model\n",
        "\n",
        "def para_tokenizer(model_name):\n",
        "    tokenizer = AutoTokenizer.from_pretrained(model_name)\n",
        "    return tokenizer\n",
        "\n",
        "model = paraphrase_model(\"ramsrigouthamg/t5-large-paraphraser-diverse-high-quality\")\n",
        "tokenizer = para_tokenizer(\"ramsrigouthamg/t5-large-paraphraser-diverse-high-quality\")\n",
        "device = torch.device(\"cuda\" if torch.cuda.is_available() else \"cpu\")\n",
        "model = model.to(device)\n",
        "\n",
        "def para(paragraph):\n",
        "    paras = []\n",
        "    for sentence in paragraph:\n",
        "      text = \"paraphrase: \" + sentence + \" </s>\"\n",
        "      encoding = tokenizer.encode_plus(text,max_length = 256, padding=True, return_tensors=\"pt\")\n",
        "      input_ids,attention_mask  = encoding[\"input_ids\"].to(device), encoding[\"attention_mask\"].to(device)\n",
        "      model.eval()\n",
        "      beam_outputs = model.generate(\n",
        "          input_ids=input_ids,attention_mask=attention_mask,\n",
        "          max_length= 256,\n",
        "          early_stopping=True,\n",
        "          num_beams=15,\n",
        "          num_return_sequences=3)\n",
        "      sent = tokenizer.decode(beam_outputs[2], skip_special_tokens=True,clean_up_tokenization_spaces=True)\n",
        "      paras.append(sent)\n",
        "\n",
        "    parast = []\n",
        "    for i in paras:\n",
        "        resf = i.replace(\"paraphrasedoutput: \", \"\")\n",
        "        parast.append(resf)\n",
        "    return parast"
      ],
      "metadata": {
        "id": "x6le1pyJlPa4"
      },
      "execution_count": null,
      "outputs": []
    },
    {
      "cell_type": "markdown",
      "source": [
        "**Text Summarization model from HuggingFace🤗**"
      ],
      "metadata": {
        "id": "eVHJ8gqWMmkr"
      }
    },
    {
      "cell_type": "code",
      "source": [
        "def load_model(model_name):\n",
        "    model = PegasusForConditionalGeneration.from_pretrained(model_name)\n",
        "    return model\n",
        "\n",
        "def load_tokenizer(model_name):\n",
        "    tokenizer = AutoTokenizer.from_pretrained(model_name)\n",
        "    return tokenizer\n",
        "\n",
        "model = load_model(\"google/pegasus-cnn_dailymail\")\n",
        "tokenizer = load_tokenizer(\"google/pegasus-cnn_dailymail\")\n",
        "device = torch.device(\"cuda\" if torch.cuda.is_available() else \"cpu\")\n",
        "model = model.to(device)\n",
        "\n",
        "def summarize():\n",
        "    sentence = para(prod_description)\n",
        "    txt = \"\".join(sentence)\n",
        "    txt = txt.replace(\"\\n\", \" \").replace(\"<n>\", \" \")\n",
        "    batch = tokenizer(txt, truncation=True, padding='longest', return_tensors=\"pt\").to(device)\n",
        "    translated = model.generate(**batch)\n",
        "    summy = tokenizer.batch_decode(translated, skip_special_tokens=True)\n",
        "    summy = ' '.join(summy)\n",
        "    summary = summy.replace('<n>', ' ')\n",
        "    summary = summary.replace(\". \", \".\\n\")\n",
        "    return summary"
      ],
      "metadata": {
        "id": "NoLPlp4alPoP"
      },
      "execution_count": null,
      "outputs": []
    },
    {
      "cell_type": "markdown",
      "source": [
        "**The below Script will produce the Summary of the scrapted data from Amazon website.**"
      ],
      "metadata": {
        "id": "K1VCSL1IQq-Q"
      }
    },
    {
      "cell_type": "code",
      "source": [
        "summary = summarize()\n",
        "print(\"\\033[95mSummary:\\033[0m\")\n",
        "print(\"=\"*200)\n",
        "print(\"\\033[91m {}\\033[00m\" .format(summary))\n"
      ],
      "metadata": {
        "colab": {
          "base_uri": "https://localhost:8080/"
        },
        "id": "JjQWvQh5H1gU",
        "outputId": "0d3555ae-1e28-4d42-8723-e0dc802f8e0c"
      },
      "execution_count": null,
      "outputs": [
        {
          "output_type": "stream",
          "name": "stdout",
          "text": [
            "\u001b[95mSummary:\u001b[0m\n",
            "========================================================================================================================================================================================================\n",
            "\u001b[91m EIGIIS military smart watch has a variety of exercise modes, including running, walking, cycling, skipping, basketball, football, badminton, etc.\n",
            "It can perform real-time heart rate monitoring and accurately record all-day activities through intelligent exercise algorithms.\n",
            "Using message and call notification, you will never miss any important calls and messages at all.\u001b[00m\n"
          ]
        }
      ]
    }
  ]
}